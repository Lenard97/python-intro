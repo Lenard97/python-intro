{
 "cells": [
  {
   "cell_type": "markdown",
   "metadata": {
    "collapsed": false
   },
   "source": [
    "# Mini-Projekt\n",
    "\n",
    "Dies ist eine kleine Aufgabe, die Sie im Team lösen sollen.\n",
    "\n",
    "Schreiben Sie ein Programm, das Empfehlungen für Freizeitbeschäftigungen macht.\n",
    "\n",
    "=> Erstellen Sie hierfür eine Funktion 'empfehlung'\n",
    "=> Die Funktion hat zwei Parameter 'name' und 'alter\n",
    "=> Je nach Alter sollen Empfehlungen ausgegeben werden:\n",
    "\n",
    "* 0..6: \"<name>, du bist noch zu jung.\"\n",
    "* 7..18: \"<name>, du könntest ins Kino gehen.\"\n",
    "* 18..60: \"<name>, du könntest Sport machen, das ist gesund.\"\n",
    "* größer 60: \"<name>, du könntest dich mit deiner Nachbarin zum Tee treffen.\"\n",
    "\n",
    "\n",
    "(Hierbei soll anstelle von <name> der per Parameter übergebene Name ausgegeben werden.)\n",
    "\n",
    "=> Benutzen Sie die Funktion und geben Sie für zwei Altersgruppen ein Beispiel aus.\n",
    "\n",
    "=> Sie können optional den Sonderfall abfangen, wenn das Alter kleiner ist als 0. Hierfür können Sie z.B. die Funktion ’raise Exception (‘Text’) benutzen.\n"
   ]
  },
  {
   "cell_type": "code",
   "execution_count": 6,
   "metadata": {
    "collapsed": false
   },
   "outputs": [
    {
     "name": "stdout",
     "output_type": "stream",
     "text": [
      "('Ben', 'du bist noch zu jung.')\n",
      "('Lisa', 'du könntest ins Kino gehen.')\n",
      "('Karl', 'du könntest Sport machen, das ist gesund.')\n",
      "('Inge', 'du könntest dich mit deiner Nachbarin zum Tee treffen.')\n"
     ]
    },
    {
     "ename": "Exception",
     "evalue": "Alter < 0 ist nicht erlaubt.",
     "output_type": "error",
     "traceback": [
      "\u001b[0;31m---------------------------------------------------------------------------\u001b[0m",
      "\u001b[0;31mException\u001b[0m                                 Traceback (most recent call last)",
      "Cell \u001b[0;32mIn[6], line 19\u001b[0m\n\u001b[1;32m     17\u001b[0m \u001b[39mprint\u001b[39m (empfehlung(\u001b[39m'\u001b[39m\u001b[39mKarl\u001b[39m\u001b[39m'\u001b[39m, \u001b[39m45\u001b[39m))\n\u001b[1;32m     18\u001b[0m \u001b[39mprint\u001b[39m (empfehlung(\u001b[39m'\u001b[39m\u001b[39mInge\u001b[39m\u001b[39m'\u001b[39m, \u001b[39m99\u001b[39m))\n\u001b[0;32m---> 19\u001b[0m \u001b[39mprint\u001b[39m (empfehlung(\u001b[39m'\u001b[39;49m\u001b[39mJosy\u001b[39;49m\u001b[39m'\u001b[39;49m, \u001b[39m-\u001b[39;49m\u001b[39m1\u001b[39;49m))\n",
      "Cell \u001b[0;32mIn[6], line 13\u001b[0m, in \u001b[0;36mempfehlung\u001b[0;34m(name, alter)\u001b[0m\n\u001b[1;32m     11\u001b[0m     \u001b[39mreturn\u001b[39;00m (name, \u001b[39m'\u001b[39m\u001b[39mdu könntest dich mit deiner Nachbarin zum Tee treffen.\u001b[39m\u001b[39m'\u001b[39m)\n\u001b[1;32m     12\u001b[0m \u001b[39melse\u001b[39;00m:\n\u001b[0;32m---> 13\u001b[0m     \u001b[39mraise\u001b[39;00m \u001b[39mException\u001b[39;00m(\u001b[39m'\u001b[39m\u001b[39mAlter < 0 ist nicht erlaubt.\u001b[39m\u001b[39m'\u001b[39m)\n",
      "\u001b[0;31mException\u001b[0m: Alter < 0 ist nicht erlaubt."
     ]
    }
   ],
   "source": [
    "# Mini Projekt Beispiel-Lösung\n",
    "\n",
    "def empfehlung (name, alter):\n",
    "    if 0 < alter <= 6:\n",
    "        return (name, 'du bist noch zu jung.')\n",
    "    elif 6 < alter <= 18:\n",
    "        return (name, 'du könntest ins Kino gehen.')\n",
    "    elif 18 <alter <= 60:\n",
    "        return(name, 'du könntest Sport machen, das ist gesund.')\n",
    "    elif 60 < alter > 60:\n",
    "        return (name, 'du könntest dich mit deiner Nachbarin zum Tee treffen.')\n",
    "    else:\n",
    "        raise Exception('Alter < 0 ist nicht erlaubt.')\n",
    "\n",
    "print (empfehlung('name1', 3))\n",
    "print (empfehlung('name2', 21))\n",
    "print (empfehlung('name3', 59))\n",
    "print (empfehlung('name4', 17))\n"
   ]
  }
 ],
 "metadata": {
  "kernelspec": {
   "display_name": "Python 3",
   "language": "python",
   "name": "python3"
  },
  "language_info": {
   "codemirror_mode": {
    "name": "ipython",
    "version": 3
   },
   "file_extension": ".py",
   "mimetype": "text/x-python",
   "name": "python",
   "nbconvert_exporter": "python",
   "pygments_lexer": "ipython3",
   "version": "3.10.4"
  },
  "vscode": {
   "interpreter": {
    "hash": "3ad933181bd8a04b432d3370b9dc3b0662ad032c4dfaa4e4f1596c548f763858"
   }
  }
 },
 "nbformat": 4,
 "nbformat_minor": 0
}
