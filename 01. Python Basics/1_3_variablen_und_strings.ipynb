{
 "cells": [
  {
   "cell_type": "markdown",
   "metadata": {
    "collapsed": false
   },
   "source": [
    "# Variablen\n",
    "## Was sind Variablen?\n",
    "Wäre es nicht praktisch, wenn man all die Ausgaben der vorigen Lektion (also z.B. 4+2) auch zwischenspeichern kann?\n",
    "\n",
    "=> Hierfür gibt es Variablen.\n",
    "=> Sie können Zahlen, Texte, aber z.B. auch eine Liste oder Bilder speichern.\n",
    "=> Speichert man einen Wert in einer Variablen, dann sagt man auch \"Man weist einer Variablen einen Wert zu\".\n",
    "=> Links steht immer die Variable.\n",
    "![image](../img/variable.png)\n",
    "\n",
    "### Aufgabe\n",
    "Probieren Sie es gleich aus!\n",
    "=> Erstellen Sie eine Variable mit Namen \"ergebnis\" und weisen Sie ihr den Wert 10 geteilt durch 5 zu.\n",
    "=> Warum wird nichts ausgegeben?\n",
    "=> Geben Sie dann den Wert der Variable in der Konsole an!"
   ]
  },
  {
   "cell_type": "code",
   "execution_count": 2,
   "metadata": {
    "collapsed": false
   },
   "outputs": [
    {
     "name": "stdout",
     "output_type": "stream",
     "text": [
      "2.0\n"
     ]
    },
    {
     "data": {
      "text/plain": [
       "2.0"
      ]
     },
     "execution_count": 2,
     "metadata": {},
     "output_type": "execute_result"
    }
   ],
   "source": [
    "# Erstellen Sie eine Variable mit Namen \"ergebnis\" und weisen Sie ihr den Wert 10 geteilt durch 5 zu.\n",
    "\n",
    "ergebnis = 10/5\n",
    "print (ergebnis)\n",
    "ergebnis"
   ]
  },
  {
   "cell_type": "code",
   "execution_count": 3,
   "metadata": {
    "collapsed": false
   },
   "outputs": [
    {
     "data": {
      "text/plain": [
       "2.0"
      ]
     },
     "execution_count": 3,
     "metadata": {},
     "output_type": "execute_result"
    }
   ],
   "source": [
    "# Zeigen Sie nun den berechneten Wert in der Konsole an!\n",
    "\n",
    "ergebnis"
   ]
  },
  {
   "cell_type": "markdown",
   "metadata": {
    "collapsed": false
   },
   "source": [
    "## Benennung von Variablen\n",
    "\n",
    "Für die Benennung von Variablen gelten strenge Regeln.\n",
    "Der Name einer Variablen wird auch \"Bezeichner\" (engl.: identifier) genannt.\n",
    "\n",
    "* Bezeichner können keine Schlüsselwörter sein.\n",
    "* Bei Bezeichnern wird zwischen Groß- und Kleinschreibung unterschieden.\n",
    "* Bezeichner können aus einer Folge von Buchstaben und Ziffern bestehen. Er muss jedoch mit einem Buchstaben oder _ beginnen. Der erste Buchstabe eines Bezeichners kann keine Ziffer sein.\n",
    "* Es ist eine Konvention, einen Bezeichner mit einem Buchstaben und nicht mit _ zu beginnen.\n",
    "* Leerzeichen sind nicht erlaubt.\n",
    "* Sonderzeichen wie !, @, #, $ usw. dürfen nicht verwendet werden.\n",
    "\n",
    "![image](../img/bezeichner.png)\n",
    "\n",
    "=> Sehen Sie sich den nachfolgenden Code an. Warum funktioniert er nicht?"
   ]
  },
  {
   "cell_type": "code",
   "execution_count": 6,
   "metadata": {
    "collapsed": false
   },
   "outputs": [
    {
     "name": "stdout",
     "output_type": "stream",
     "text": [
      "8\n"
     ]
    }
   ],
   "source": [
    "# Sehen Sie sich den nachfolgenden Code an. Warum funktioniert er nicht?\n",
    "ergebnis = 4 * 2\n",
    "print(ergebnis)"
   ]
  },
  {
   "attachments": {},
   "cell_type": "markdown",
   "metadata": {
    "collapsed": false
   },
   "source": [
    "## Stilvolle Bezeichner\n",
    "\n",
    "Es gibt einige Konventionen für Bezeichner.\n",
    "=> Die wichtigste ist der sogenannte snake_case.\n",
    "=> hierbei wird alles klein geschrieben und durch Unterstriche verbunden.\n",
    "\n",
    "![image](../img/snake_case.png)"
   ]
  },
  {
   "cell_type": "markdown",
   "metadata": {
    "collapsed": false
   },
   "source": [
    "## Mit Variablen Arbeiten\n",
    "\n",
    "Mit Variablen kann man nun arbeiten, wie wir das zuvor mit Zahlen oder Strings gemacht haben.\n"
   ]
  },
  {
   "cell_type": "code",
   "execution_count": null,
   "metadata": {
    "collapsed": false
   },
   "outputs": [],
   "source": [
    "# Betrachten Sie nachfolgenden Code, was wird ausgegeben?\n",
    "eins = 1\n",
    "zwei = 2\n",
    "print(eins + zwei)\n",
    "print(eins - zwei)\n",
    "print(eins * zwei)\n",
    "print(eins / zwei)"
   ]
  },
  {
   "cell_type": "code",
   "execution_count": 11,
   "metadata": {
    "collapsed": false
   },
   "outputs": [
    {
     "name": "stdout",
     "output_type": "stream",
     "text": [
      "AB\n",
      "AAA\n"
     ]
    }
   ],
   "source": [
    "# Betrachten Sie nachfolgenden Code, was wird ausgegeben?\n",
    "drei = 3\n",
    "a = \"A\"\n",
    "b = \"B\"\n",
    "print(a + b)\n",
    "print(drei * a)"
   ]
  },
  {
   "cell_type": "markdown",
   "metadata": {
    "collapsed": false
   },
   "source": [
    "# Strings\n",
    "\n",
    "Texte werden in Programmiersprachen häufig als \"String\" (aus dem Englischen: \"Kette\") bezeichnet.\n",
    "\n",
    "Es geht also um Zeichenketten. Diese werden durch Anführungszeichen dargestellt."
   ]
  },
  {
   "cell_type": "markdown",
   "metadata": {
    "collapsed": false
   },
   "source": [
    "## Anführungzeichen\n",
    "\n",
    "Python kenn einfache ' und doppelte \" Anführungszeichen.\n",
    "\n",
    "Beide sind erlaubt, um Strings (also Text) einzugeben.\n",
    "\n",
    "Soll ein Text Anführungszeichen enthalten, dann können Sie gemischt werden.\n",
    "\n",
    "Beispiel: \"Namen von Variablen werden auch 'Bezeichner' genannt.\"\n",
    "\n",
    "### Aufgabe\n",
    "\n",
    "=> Probieren Sie es aus und geben Sie den Text let's go aus."
   ]
  },
  {
   "cell_type": "code",
   "execution_count": 10,
   "metadata": {
    "collapsed": false
   },
   "outputs": [
    {
     "name": "stdout",
     "output_type": "stream",
     "text": [
      "let\"s go\n"
     ]
    }
   ],
   "source": [
    "# Probieren Sie es aus und geben Sie den Text let's go aus.\n",
    "\n",
    "print('let\"s go')"
   ]
  },
  {
   "cell_type": "markdown",
   "metadata": {
    "collapsed": false
   },
   "source": [
    "![image](../img/string.png)\n",
    "\n",
    "\n",
    "\n",
    "## Strings sind sogenannte Arrays\n",
    "\n",
    "Ein Array (engl.: Reihe, Sortiment) ist eine Möglichkeit, mehrere Werte in einer einzigen Variablen zu speichern.\n",
    "\n",
    "#### Hierbei wird von 0 beginnend gezählt.\n",
    "\n",
    "\n",
    "![image](../img/text_array.png)\n",
    "\n",
    "Das können wir selbst programmieren!"
   ]
  },
  {
   "cell_type": "code",
   "execution_count": 12,
   "metadata": {
    "collapsed": false
   },
   "outputs": [
    {
     "name": "stdout",
     "output_type": "stream",
     "text": [
      "M\n",
      "e\n",
      "i\n",
      "n\n",
      " \n",
      "T\n",
      "e\n",
      "x\n",
      "t\n"
     ]
    }
   ],
   "source": [
    "# Wir geben die Buchstaben eines Wortes als einzelne Zeichen aus:\n",
    "\n",
    "string_variable = \"Mein Text\"\n",
    "for zeichen in string_variable:\n",
    "    print(zeichen)"
   ]
  },
  {
   "cell_type": "markdown",
   "metadata": {
    "collapsed": false
   },
   "source": [
    "Weil Strings Arrays sind, können wir auf jeden Buchstaben einzeln zugreifen:\n"
   ]
  },
  {
   "cell_type": "code",
   "execution_count": 15,
   "metadata": {
    "collapsed": false
   },
   "outputs": [
    {
     "name": "stdout",
     "output_type": "stream",
     "text": [
      "x\n"
     ]
    }
   ],
   "source": [
    "# Gib den achten Buchstaben aus:\n",
    "\n",
    "string_variable = \"Mein Text\"\n",
    "print(string_variable[7])"
   ]
  },
  {
   "cell_type": "markdown",
   "metadata": {
    "collapsed": false
   },
   "source": [
    "### Aufgabe\n",
    "\n",
    "=> warum programmieren wir nicht print(string_variable[8])?\n",
    "=> Betrachten Sie nachfolgendes Beispiel. Warum scheitert der Code?"
   ]
  },
  {
   "cell_type": "code",
   "execution_count": 27,
   "metadata": {
    "collapsed": false
   },
   "outputs": [
    {
     "name": "stdout",
     "output_type": "stream",
     "text": [
      "hier stimmt was nicht\n"
     ]
    }
   ],
   "source": [
    "# Betrachten Sie nachfolgendes Beispiel. Warum scheitert der Code?\n",
    "\n",
    "string_variable = \"Mein Text\"\n",
    "try:\n",
    "    print(string_variable[9])\n",
    "except:\n",
    "    print(\"hier stimmt was nicht\")"
   ]
  },
  {
   "cell_type": "code",
   "execution_count": 20,
   "metadata": {
    "collapsed": false
   },
   "outputs": [
    {
     "name": "stdout",
     "output_type": "stream",
     "text": [
      "9\n"
     ]
    }
   ],
   "source": [
    "# Wir können die Länge eines Textes berechnen\n",
    "\n",
    "string_variable = \"Mein Text\"\n",
    "print (len(string_variable))"
   ]
  },
  {
   "cell_type": "code",
   "execution_count": 28,
   "metadata": {
    "collapsed": false
   },
   "outputs": [
    {
     "name": "stdout",
     "output_type": "stream",
     "text": [
      "t\n"
     ]
    }
   ],
   "source": [
    "# Zugriff auf das letzte Zeichen eines Textes:\n",
    "\n",
    "string_variable = \"Mein Text\"\n",
    "print (string_variable[-1])"
   ]
  },
  {
   "cell_type": "code",
   "execution_count": null,
   "metadata": {
    "collapsed": false
   },
   "outputs": [],
   "source": [
    "# Zugriff auf einen Bereich von Zeichen eines Textes:\n",
    "\n",
    "string_variable = \"Mein Text\"\n",
    "print (string_variable[5:9])\n",
    "print (string_variable[-9:-5])"
   ]
  },
  {
   "cell_type": "code",
   "execution_count": 34,
   "metadata": {
    "collapsed": false
   },
   "outputs": [
    {
     "name": "stdout",
     "output_type": "stream",
     "text": [
      "txeT nieM\n"
     ]
    }
   ],
   "source": [
    "# Text rückwärts ausgeben\n",
    "\n",
    "print (string_variable[::-1])"
   ]
  },
  {
   "cell_type": "markdown",
   "metadata": {
    "collapsed": false
   },
   "source": [
    "## String Funktionen\n",
    "\n",
    "Strings sind eigentlich Objekte. Objekte können nicht nur Werte speichern, sondern auch eigene Fähigkeiten haben.\n",
    "Hier einige Beispiele für Fähigkeiten (also Funktionen), die für String zur Verfügung stehen:\n"
   ]
  },
  {
   "cell_type": "code",
   "execution_count": 36,
   "metadata": {
    "collapsed": false
   },
   "outputs": [
    {
     "name": "stdout",
     "output_type": "stream",
     "text": [
      "Mein Text\n",
      "MEIN TEXT\n",
      "mein text\n",
      "Mein text\n"
     ]
    }
   ],
   "source": [
    "string_variable = \"Mein Text\"\n",
    "print(string_variable)\n",
    "print(string_variable.upper())\n",
    "print(string_variable.lower())\n",
    "print(string_variable.lower().capitalize())"
   ]
  },
  {
   "cell_type": "markdown",
   "metadata": {
    "collapsed": false
   },
   "source": [
    "# Aufgaben"
   ]
  },
  {
   "cell_type": "code",
   "execution_count": null,
   "metadata": {
    "collapsed": false
   },
   "outputs": [],
   "source": [
    "# Speichern Sie den Text \"Python forever\" in einer variablen\n",
    "\n",
    "variable = \"Python forever\""
   ]
  },
  {
   "cell_type": "code",
   "execution_count": 53,
   "metadata": {
    "collapsed": false
   },
   "outputs": [
    {
     "name": "stdout",
     "output_type": "stream",
     "text": [
      "r\n"
     ]
    }
   ],
   "source": [
    "# Geben Sie das letzte Zeichen des Textes aus\n",
    "variable = \"Python forever\"\n",
    "print(variable[-1])"
   ]
  },
  {
   "cell_type": "code",
   "execution_count": 43,
   "metadata": {
    "collapsed": false
   },
   "outputs": [
    {
     "name": "stdout",
     "output_type": "stream",
     "text": [
      "python forever\n"
     ]
    }
   ],
   "source": [
    "# Wandeln Sie den Text in Kleinschreibung um\n",
    "\n",
    "variable = \"Python forever\"\n",
    "print(variable.lower())"
   ]
  },
  {
   "cell_type": "code",
   "execution_count": 44,
   "metadata": {
    "collapsed": false
   },
   "outputs": [
    {
     "data": {
      "text/plain": [
       "3"
      ]
     },
     "execution_count": 44,
     "metadata": {},
     "output_type": "execute_result"
    }
   ],
   "source": [
    "# Verwenden Sie zwei Variablen, um deren Produkt auszugeben\n",
    "\n",
    "variable = 1\n",
    "variable2 = 2\n",
    "variable + variable2"
   ]
  },
  {
   "cell_type": "code",
   "execution_count": 48,
   "metadata": {
    "collapsed": false
   },
   "outputs": [
    {
     "data": {
      "text/plain": [
       "'PYthonPYthonPYthonPYthonPYthonPYthonPYthonPYthonPYthonPYthonPYthonPYthonPYthonPYthonPYthonPYthonPYthonPYthonPYthonPYthonPYthonPYthonPYthonPYthonPYthonPYthonPYthonPYthonPYthonPYthonPYthonPYthonPYthonPYthonPYthonPYthonPYthonPYthonPYthonPYthonPYthonPYthonPYthonPYthonPYthonPYthonPYthonPYthonPYthonPYthon'"
      ]
     },
     "execution_count": 48,
     "metadata": {},
     "output_type": "execute_result"
    }
   ],
   "source": [
    "# Geben Sie 50 mal den Text \"Python\" aus.\n",
    "\n",
    "variable = 50\n",
    "Variable1 = \"PYthon\"\n",
    "variable*Variable1\n"
   ]
  },
  {
   "cell_type": "code",
   "execution_count": 54,
   "metadata": {
    "collapsed": false
   },
   "outputs": [
    {
     "name": "stdout",
     "output_type": "stream",
     "text": [
      "edieZei\n"
     ]
    }
   ],
   "source": [
    "# Geben Sie die Zeichen 8 bis 14 des Textes aus\n",
    "\n",
    "variable =\"GebenSiedieZeichen8bis14desTextesaus\"\n",
    "print(variable[7:14])"
   ]
  },
  {
   "cell_type": "code",
   "execution_count": null,
   "metadata": {
    "collapsed": false
   },
   "outputs": [],
   "source": []
  }
 ],
 "metadata": {
  "kernelspec": {
   "display_name": "Python 3",
   "language": "python",
   "name": "python3"
  },
  "language_info": {
   "codemirror_mode": {
    "name": "ipython",
    "version": 3
   },
   "file_extension": ".py",
   "mimetype": "text/x-python",
   "name": "python",
   "nbconvert_exporter": "python",
   "pygments_lexer": "ipython3",
   "version": "3.10.4"
  },
  "vscode": {
   "interpreter": {
    "hash": "3ad933181bd8a04b432d3370b9dc3b0662ad032c4dfaa4e4f1596c548f763858"
   }
  }
 },
 "nbformat": 4,
 "nbformat_minor": 0
}
